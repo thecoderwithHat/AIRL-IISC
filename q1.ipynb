{
  "cells": [
    {
      "cell_type": "markdown",
      "metadata": {
        "id": "view-in-github",
        "colab_type": "text"
      },
      "source": [
        "<a href=\"https://colab.research.google.com/github/thecoderwithHat/AIRL-IISC/blob/main/q1.ipynb\" target=\"_parent\"><img src=\"https://colab.research.google.com/assets/colab-badge.svg\" alt=\"Open In Colab\"/></a>"
      ]
    },
    {
      "cell_type": "code",
      "execution_count": null,
      "id": "1b5e21de",
      "metadata": {
        "execution": {
          "iopub.execute_input": "2025-10-02T13:51:12.678591Z",
          "iopub.status.busy": "2025-10-02T13:51:12.678329Z",
          "iopub.status.idle": "2025-10-02T13:52:26.770511Z",
          "shell.execute_reply": "2025-10-02T13:52:26.769919Z"
        },
        "id": "1b5e21de",
        "outputId": "fdba0fc5-9215-40fd-87a9-a324fd109d3c",
        "papermill": {
          "duration": 74.098654,
          "end_time": "2025-10-02T13:52:26.771994",
          "exception": false,
          "start_time": "2025-10-02T13:51:12.673340",
          "status": "completed"
        },
        "tags": []
      },
      "outputs": [
        {
          "name": "stdout",
          "output_type": "stream",
          "text": [
            "Requirement already satisfied: pytorch-ignite in /usr/local/lib/python3.11/dist-packages (0.5.2)\r\n",
            "Requirement already satisfied: torch<3,>=1.3 in /usr/local/lib/python3.11/dist-packages (from pytorch-ignite) (2.6.0+cu124)\r\n",
            "Requirement already satisfied: packaging in /usr/local/lib/python3.11/dist-packages (from pytorch-ignite) (25.0)\r\n",
            "Requirement already satisfied: filelock in /usr/local/lib/python3.11/dist-packages (from torch<3,>=1.3->pytorch-ignite) (3.18.0)\r\n",
            "Requirement already satisfied: typing-extensions>=4.10.0 in /usr/local/lib/python3.11/dist-packages (from torch<3,>=1.3->pytorch-ignite) (4.14.0)\r\n",
            "Requirement already satisfied: networkx in /usr/local/lib/python3.11/dist-packages (from torch<3,>=1.3->pytorch-ignite) (3.5)\r\n",
            "Requirement already satisfied: jinja2 in /usr/local/lib/python3.11/dist-packages (from torch<3,>=1.3->pytorch-ignite) (3.1.6)\r\n",
            "Requirement already satisfied: fsspec in /usr/local/lib/python3.11/dist-packages (from torch<3,>=1.3->pytorch-ignite) (2025.5.1)\r\n",
            "Collecting nvidia-cuda-nvrtc-cu12==12.4.127 (from torch<3,>=1.3->pytorch-ignite)\r\n",
            "  Downloading nvidia_cuda_nvrtc_cu12-12.4.127-py3-none-manylinux2014_x86_64.whl.metadata (1.5 kB)\r\n",
            "Collecting nvidia-cuda-runtime-cu12==12.4.127 (from torch<3,>=1.3->pytorch-ignite)\r\n",
            "  Downloading nvidia_cuda_runtime_cu12-12.4.127-py3-none-manylinux2014_x86_64.whl.metadata (1.5 kB)\r\n",
            "Collecting nvidia-cuda-cupti-cu12==12.4.127 (from torch<3,>=1.3->pytorch-ignite)\r\n",
            "  Downloading nvidia_cuda_cupti_cu12-12.4.127-py3-none-manylinux2014_x86_64.whl.metadata (1.6 kB)\r\n",
            "Collecting nvidia-cudnn-cu12==9.1.0.70 (from torch<3,>=1.3->pytorch-ignite)\r\n",
            "  Downloading nvidia_cudnn_cu12-9.1.0.70-py3-none-manylinux2014_x86_64.whl.metadata (1.6 kB)\r\n",
            "Collecting nvidia-cublas-cu12==12.4.5.8 (from torch<3,>=1.3->pytorch-ignite)\r\n",
            "  Downloading nvidia_cublas_cu12-12.4.5.8-py3-none-manylinux2014_x86_64.whl.metadata (1.5 kB)\r\n",
            "Collecting nvidia-cufft-cu12==11.2.1.3 (from torch<3,>=1.3->pytorch-ignite)\r\n",
            "  Downloading nvidia_cufft_cu12-11.2.1.3-py3-none-manylinux2014_x86_64.whl.metadata (1.5 kB)\r\n",
            "Collecting nvidia-curand-cu12==10.3.5.147 (from torch<3,>=1.3->pytorch-ignite)\r\n",
            "  Downloading nvidia_curand_cu12-10.3.5.147-py3-none-manylinux2014_x86_64.whl.metadata (1.5 kB)\r\n",
            "Collecting nvidia-cusolver-cu12==11.6.1.9 (from torch<3,>=1.3->pytorch-ignite)\r\n",
            "  Downloading nvidia_cusolver_cu12-11.6.1.9-py3-none-manylinux2014_x86_64.whl.metadata (1.6 kB)\r\n",
            "Collecting nvidia-cusparse-cu12==12.3.1.170 (from torch<3,>=1.3->pytorch-ignite)\r\n",
            "  Downloading nvidia_cusparse_cu12-12.3.1.170-py3-none-manylinux2014_x86_64.whl.metadata (1.6 kB)\r\n",
            "Requirement already satisfied: nvidia-cusparselt-cu12==0.6.2 in /usr/local/lib/python3.11/dist-packages (from torch<3,>=1.3->pytorch-ignite) (0.6.2)\r\n",
            "Requirement already satisfied: nvidia-nccl-cu12==2.21.5 in /usr/local/lib/python3.11/dist-packages (from torch<3,>=1.3->pytorch-ignite) (2.21.5)\r\n",
            "Requirement already satisfied: nvidia-nvtx-cu12==12.4.127 in /usr/local/lib/python3.11/dist-packages (from torch<3,>=1.3->pytorch-ignite) (12.4.127)\r\n",
            "Collecting nvidia-nvjitlink-cu12==12.4.127 (from torch<3,>=1.3->pytorch-ignite)\r\n",
            "  Downloading nvidia_nvjitlink_cu12-12.4.127-py3-none-manylinux2014_x86_64.whl.metadata (1.5 kB)\r\n",
            "Requirement already satisfied: triton==3.2.0 in /usr/local/lib/python3.11/dist-packages (from torch<3,>=1.3->pytorch-ignite) (3.2.0)\r\n",
            "Requirement already satisfied: sympy==1.13.1 in /usr/local/lib/python3.11/dist-packages (from torch<3,>=1.3->pytorch-ignite) (1.13.1)\r\n",
            "Requirement already satisfied: mpmath<1.4,>=1.1.0 in /usr/local/lib/python3.11/dist-packages (from sympy==1.13.1->torch<3,>=1.3->pytorch-ignite) (1.3.0)\r\n",
            "Requirement already satisfied: MarkupSafe>=2.0 in /usr/local/lib/python3.11/dist-packages (from jinja2->torch<3,>=1.3->pytorch-ignite) (3.0.2)\r\n",
            "Downloading nvidia_cublas_cu12-12.4.5.8-py3-none-manylinux2014_x86_64.whl (363.4 MB)\r\n",
            "\u001b[2K   \u001b[90m━━━━━━━━━━━━━━━━━━━━━━━━━━━━━━━━━━━━━━━━\u001b[0m \u001b[32m363.4/363.4 MB\u001b[0m \u001b[31m4.7 MB/s\u001b[0m eta \u001b[36m0:00:00\u001b[0m\r\n",
            "\u001b[?25hDownloading nvidia_cuda_cupti_cu12-12.4.127-py3-none-manylinux2014_x86_64.whl (13.8 MB)\r\n",
            "\u001b[2K   \u001b[90m━━━━━━━━━━━━━━━━━━━━━━━━━━━━━━━━━━━━━━━━\u001b[0m \u001b[32m13.8/13.8 MB\u001b[0m \u001b[31m98.7 MB/s\u001b[0m eta \u001b[36m0:00:00\u001b[0m\r\n",
            "\u001b[?25hDownloading nvidia_cuda_nvrtc_cu12-12.4.127-py3-none-manylinux2014_x86_64.whl (24.6 MB)\r\n",
            "\u001b[2K   \u001b[90m━━━━━━━━━━━━━━━━━━━━━━━━━━━━━━━━━━━━━━━━\u001b[0m \u001b[32m24.6/24.6 MB\u001b[0m \u001b[31m83.3 MB/s\u001b[0m eta \u001b[36m0:00:00\u001b[0m\r\n",
            "\u001b[?25hDownloading nvidia_cuda_runtime_cu12-12.4.127-py3-none-manylinux2014_x86_64.whl (883 kB)\r\n",
            "\u001b[2K   \u001b[90m━━━━━━━━━━━━━━━━━━━━━━━━━━━━━━━━━━━━━━━━\u001b[0m \u001b[32m883.7/883.7 kB\u001b[0m \u001b[31m45.3 MB/s\u001b[0m eta \u001b[36m0:00:00\u001b[0m\r\n",
            "\u001b[?25hDownloading nvidia_cudnn_cu12-9.1.0.70-py3-none-manylinux2014_x86_64.whl (664.8 MB)\r\n",
            "\u001b[2K   \u001b[90m━━━━━━━━━━━━━━━━━━━━━━━━━━━━━━━━━━━━━━━━\u001b[0m \u001b[32m664.8/664.8 MB\u001b[0m \u001b[31m2.6 MB/s\u001b[0m eta \u001b[36m0:00:00\u001b[0m\r\n",
            "\u001b[?25hDownloading nvidia_cufft_cu12-11.2.1.3-py3-none-manylinux2014_x86_64.whl (211.5 MB)\r\n",
            "\u001b[2K   \u001b[90m━━━━━━━━━━━━━━━━━━━━━━━━━━━━━━━━━━━━━━━━\u001b[0m \u001b[32m211.5/211.5 MB\u001b[0m \u001b[31m8.1 MB/s\u001b[0m eta \u001b[36m0:00:00\u001b[0m\r\n",
            "\u001b[?25hDownloading nvidia_curand_cu12-10.3.5.147-py3-none-manylinux2014_x86_64.whl (56.3 MB)\r\n",
            "\u001b[2K   \u001b[90m━━━━━━━━━━━━━━━━━━━━━━━━━━━━━━━━━━━━━━━━\u001b[0m \u001b[32m56.3/56.3 MB\u001b[0m \u001b[31m31.2 MB/s\u001b[0m eta \u001b[36m0:00:00\u001b[0m\r\n",
            "\u001b[?25hDownloading nvidia_cusolver_cu12-11.6.1.9-py3-none-manylinux2014_x86_64.whl (127.9 MB)\r\n",
            "\u001b[2K   \u001b[90m━━━━━━━━━━━━━━━━━━━━━━━━━━━━━━━━━━━━━━━━\u001b[0m \u001b[32m127.9/127.9 MB\u001b[0m \u001b[31m13.6 MB/s\u001b[0m eta \u001b[36m0:00:00\u001b[0m\r\n",
            "\u001b[?25hDownloading nvidia_cusparse_cu12-12.3.1.170-py3-none-manylinux2014_x86_64.whl (207.5 MB)\r\n",
            "\u001b[2K   \u001b[90m━━━━━━━━━━━━━━━━━━━━━━━━━━━━━━━━━━━━━━━━\u001b[0m \u001b[32m207.5/207.5 MB\u001b[0m \u001b[31m8.3 MB/s\u001b[0m eta \u001b[36m0:00:00\u001b[0m\r\n",
            "\u001b[?25hDownloading nvidia_nvjitlink_cu12-12.4.127-py3-none-manylinux2014_x86_64.whl (21.1 MB)\r\n",
            "\u001b[2K   \u001b[90m━━━━━━━━━━━━━━━━━━━━━━━━━━━━━━━━━━━━━━━━\u001b[0m \u001b[32m21.1/21.1 MB\u001b[0m \u001b[31m90.7 MB/s\u001b[0m eta \u001b[36m0:00:00\u001b[0m\r\n",
            "\u001b[?25hInstalling collected packages: nvidia-nvjitlink-cu12, nvidia-curand-cu12, nvidia-cufft-cu12, nvidia-cuda-runtime-cu12, nvidia-cuda-nvrtc-cu12, nvidia-cuda-cupti-cu12, nvidia-cublas-cu12, nvidia-cusparse-cu12, nvidia-cudnn-cu12, nvidia-cusolver-cu12\r\n",
            "  Attempting uninstall: nvidia-nvjitlink-cu12\r\n",
            "    Found existing installation: nvidia-nvjitlink-cu12 12.5.82\r\n",
            "    Uninstalling nvidia-nvjitlink-cu12-12.5.82:\r\n",
            "      Successfully uninstalled nvidia-nvjitlink-cu12-12.5.82\r\n",
            "  Attempting uninstall: nvidia-curand-cu12\r\n",
            "    Found existing installation: nvidia-curand-cu12 10.3.6.82\r\n",
            "    Uninstalling nvidia-curand-cu12-10.3.6.82:\r\n",
            "      Successfully uninstalled nvidia-curand-cu12-10.3.6.82\r\n",
            "  Attempting uninstall: nvidia-cufft-cu12\r\n",
            "    Found existing installation: nvidia-cufft-cu12 11.2.3.61\r\n",
            "    Uninstalling nvidia-cufft-cu12-11.2.3.61:\r\n",
            "      Successfully uninstalled nvidia-cufft-cu12-11.2.3.61\r\n",
            "  Attempting uninstall: nvidia-cuda-runtime-cu12\r\n",
            "    Found existing installation: nvidia-cuda-runtime-cu12 12.5.82\r\n",
            "    Uninstalling nvidia-cuda-runtime-cu12-12.5.82:\r\n",
            "      Successfully uninstalled nvidia-cuda-runtime-cu12-12.5.82\r\n",
            "  Attempting uninstall: nvidia-cuda-nvrtc-cu12\r\n",
            "    Found existing installation: nvidia-cuda-nvrtc-cu12 12.5.82\r\n",
            "    Uninstalling nvidia-cuda-nvrtc-cu12-12.5.82:\r\n",
            "      Successfully uninstalled nvidia-cuda-nvrtc-cu12-12.5.82\r\n",
            "  Attempting uninstall: nvidia-cuda-cupti-cu12\r\n",
            "    Found existing installation: nvidia-cuda-cupti-cu12 12.5.82\r\n",
            "    Uninstalling nvidia-cuda-cupti-cu12-12.5.82:\r\n",
            "      Successfully uninstalled nvidia-cuda-cupti-cu12-12.5.82\r\n",
            "  Attempting uninstall: nvidia-cublas-cu12\r\n",
            "    Found existing installation: nvidia-cublas-cu12 12.5.3.2\r\n",
            "    Uninstalling nvidia-cublas-cu12-12.5.3.2:\r\n",
            "      Successfully uninstalled nvidia-cublas-cu12-12.5.3.2\r\n",
            "  Attempting uninstall: nvidia-cusparse-cu12\r\n",
            "    Found existing installation: nvidia-cusparse-cu12 12.5.1.3\r\n",
            "    Uninstalling nvidia-cusparse-cu12-12.5.1.3:\r\n",
            "      Successfully uninstalled nvidia-cusparse-cu12-12.5.1.3\r\n",
            "  Attempting uninstall: nvidia-cudnn-cu12\r\n",
            "    Found existing installation: nvidia-cudnn-cu12 9.3.0.75\r\n",
            "    Uninstalling nvidia-cudnn-cu12-9.3.0.75:\r\n",
            "      Successfully uninstalled nvidia-cudnn-cu12-9.3.0.75\r\n",
            "  Attempting uninstall: nvidia-cusolver-cu12\r\n",
            "    Found existing installation: nvidia-cusolver-cu12 11.6.3.83\r\n",
            "    Uninstalling nvidia-cusolver-cu12-11.6.3.83:\r\n",
            "      Successfully uninstalled nvidia-cusolver-cu12-11.6.3.83\r\n",
            "Successfully installed nvidia-cublas-cu12-12.4.5.8 nvidia-cuda-cupti-cu12-12.4.127 nvidia-cuda-nvrtc-cu12-12.4.127 nvidia-cuda-runtime-cu12-12.4.127 nvidia-cudnn-cu12-9.1.0.70 nvidia-cufft-cu12-11.2.1.3 nvidia-curand-cu12-10.3.5.147 nvidia-cusolver-cu12-11.6.1.9 nvidia-cusparse-cu12-12.3.1.170 nvidia-nvjitlink-cu12-12.4.127\r\n"
          ]
        }
      ],
      "source": [
        "!pip install pytorch-ignite\n",
        "\n",
        "import numpy as np\n",
        "from collections import defaultdict\n",
        "import matplotlib.pyplot as plt\n",
        "\n",
        "import torch\n",
        "import torch.nn as nn\n",
        "import torch.optim as optim\n",
        "import torch.nn.functional as F\n",
        "from torchvision import datasets, transforms\n",
        "\n",
        "from ignite.engine import Events, create_supervised_trainer, create_supervised_evaluator\n",
        "from ignite.utils import convert_tensor\n",
        "import ignite.metrics\n",
        "import ignite.contrib.handlers"
      ]
    },
    {
      "cell_type": "code",
      "execution_count": null,
      "id": "56e545d7",
      "metadata": {
        "execution": {
          "iopub.execute_input": "2025-10-02T13:52:26.809736Z",
          "iopub.status.busy": "2025-10-02T13:52:26.809423Z",
          "iopub.status.idle": "2025-10-02T13:52:26.813323Z",
          "shell.execute_reply": "2025-10-02T13:52:26.812759Z"
        },
        "id": "56e545d7",
        "papermill": {
          "duration": 0.023692,
          "end_time": "2025-10-02T13:52:26.814446",
          "exception": false,
          "start_time": "2025-10-02T13:52:26.790754",
          "status": "completed"
        },
        "tags": []
      },
      "outputs": [],
      "source": [
        "DATA_DIR='./data'\n",
        "\n",
        "IMAGE_SIZE = 32\n",
        "\n",
        "NUM_CLASSES = 10\n",
        "NUM_WORKERS = 8\n",
        "BATCH_SIZE = 32\n",
        "EPOCHS = 200\n",
        "\n",
        "LEARNING_RATE = 1e-3\n",
        "WEIGHT_DECAY = 1e-1"
      ]
    },
    {
      "cell_type": "code",
      "execution_count": null,
      "id": "1778628f",
      "metadata": {
        "execution": {
          "iopub.execute_input": "2025-10-02T13:52:26.851746Z",
          "iopub.status.busy": "2025-10-02T13:52:26.851515Z",
          "iopub.status.idle": "2025-10-02T13:52:26.907695Z",
          "shell.execute_reply": "2025-10-02T13:52:26.906853Z"
        },
        "id": "1778628f",
        "outputId": "d609e750-1cce-42d9-e2eb-d694f591c451",
        "papermill": {
          "duration": 0.076307,
          "end_time": "2025-10-02T13:52:26.908984",
          "exception": false,
          "start_time": "2025-10-02T13:52:26.832677",
          "status": "completed"
        },
        "tags": []
      },
      "outputs": [
        {
          "name": "stdout",
          "output_type": "stream",
          "text": [
            "device: cuda\n"
          ]
        }
      ],
      "source": [
        "DEVICE = torch.device(\"cuda\") if torch.cuda.is_available() else torch.device(\"cpu\")\n",
        "print(\"device:\", DEVICE)"
      ]
    },
    {
      "cell_type": "code",
      "execution_count": null,
      "id": "1a18b214",
      "metadata": {
        "execution": {
          "iopub.execute_input": "2025-10-02T13:52:26.947155Z",
          "iopub.status.busy": "2025-10-02T13:52:26.946932Z",
          "iopub.status.idle": "2025-10-02T13:52:26.950725Z",
          "shell.execute_reply": "2025-10-02T13:52:26.950212Z"
        },
        "id": "1a18b214",
        "papermill": {
          "duration": 0.023871,
          "end_time": "2025-10-02T13:52:26.951824",
          "exception": false,
          "start_time": "2025-10-02T13:52:26.927953",
          "status": "completed"
        },
        "tags": []
      },
      "outputs": [],
      "source": [
        "train_transform = transforms.Compose([\n",
        "    transforms.TrivialAugmentWide(interpolation=transforms.InterpolationMode.BILINEAR),\n",
        "    transforms.RandomHorizontalFlip(),\n",
        "    transforms.RandomCrop(32, padding=4),\n",
        "    transforms.PILToTensor(),\n",
        "    transforms.ConvertImageDtype(torch.float),\n",
        "    transforms.RandomErasing(p=0.1)\n",
        "])"
      ]
    },
    {
      "cell_type": "code",
      "execution_count": null,
      "id": "09c1869d",
      "metadata": {
        "execution": {
          "iopub.execute_input": "2025-10-02T13:52:26.989448Z",
          "iopub.status.busy": "2025-10-02T13:52:26.989231Z",
          "iopub.status.idle": "2025-10-02T13:53:24.392457Z",
          "shell.execute_reply": "2025-10-02T13:53:24.391833Z"
        },
        "id": "09c1869d",
        "outputId": "442369c6-6257-44c0-f7ff-f837e1485769",
        "papermill": {
          "duration": 57.423468,
          "end_time": "2025-10-02T13:53:24.393839",
          "exception": false,
          "start_time": "2025-10-02T13:52:26.970371",
          "status": "completed"
        },
        "tags": []
      },
      "outputs": [
        {
          "name": "stderr",
          "output_type": "stream",
          "text": [
            "100%|██████████| 170M/170M [00:53<00:00, 3.16MB/s]\n"
          ]
        }
      ],
      "source": [
        "train_dset = datasets.CIFAR10(root=DATA_DIR, train=True, download=True, transform=train_transform)\n",
        "test_dset = datasets.CIFAR10(root=DATA_DIR, train=False, download=True, transform=transforms.ToTensor())"
      ]
    },
    {
      "cell_type": "code",
      "execution_count": null,
      "id": "00545a1c",
      "metadata": {
        "execution": {
          "iopub.execute_input": "2025-10-02T13:53:24.543542Z",
          "iopub.status.busy": "2025-10-02T13:53:24.543270Z",
          "iopub.status.idle": "2025-10-02T13:53:24.549940Z",
          "shell.execute_reply": "2025-10-02T13:53:24.549084Z"
        },
        "id": "00545a1c",
        "outputId": "a08946c4-a58d-4e8b-b327-a3c7bc843a03",
        "papermill": {
          "duration": 0.052298,
          "end_time": "2025-10-02T13:53:24.551055",
          "exception": false,
          "start_time": "2025-10-02T13:53:24.498757",
          "status": "completed"
        },
        "tags": []
      },
      "outputs": [
        {
          "name": "stderr",
          "output_type": "stream",
          "text": [
            "/usr/local/lib/python3.11/dist-packages/torch/utils/data/dataloader.py:624: UserWarning: This DataLoader will create 8 worker processes in total. Our suggested max number of worker in current system is 4, which is smaller than what this DataLoader is going to create. Please be aware that excessive worker creation might get DataLoader running slow or even freeze, lower the worker number to avoid potential slowness/freeze if necessary.\n",
            "  warnings.warn(\n"
          ]
        }
      ],
      "source": [
        "train_loader = torch.utils.data.DataLoader(train_dset, batch_size=BATCH_SIZE, shuffle=True,\n",
        "                                           num_workers=NUM_WORKERS, pin_memory=True)\n",
        "test_loader = torch.utils.data.DataLoader(test_dset, batch_size=BATCH_SIZE, shuffle=False,\n",
        "                                          num_workers=NUM_WORKERS, pin_memory=True)"
      ]
    },
    {
      "cell_type": "markdown",
      "id": "4f4c712b",
      "metadata": {
        "id": "4f4c712b",
        "papermill": {
          "duration": 0.03709,
          "end_time": "2025-10-02T13:53:24.625222",
          "exception": false,
          "start_time": "2025-10-02T13:53:24.588132",
          "status": "completed"
        },
        "tags": []
      },
      "source": [
        "model\n"
      ]
    },
    {
      "cell_type": "code",
      "execution_count": null,
      "id": "89727b03",
      "metadata": {
        "execution": {
          "iopub.execute_input": "2025-10-02T13:53:24.702067Z",
          "iopub.status.busy": "2025-10-02T13:53:24.701368Z",
          "iopub.status.idle": "2025-10-02T13:53:24.706555Z",
          "shell.execute_reply": "2025-10-02T13:53:24.705997Z"
        },
        "id": "89727b03",
        "papermill": {
          "duration": 0.044242,
          "end_time": "2025-10-02T13:53:24.707660",
          "exception": false,
          "start_time": "2025-10-02T13:53:24.663418",
          "status": "completed"
        },
        "tags": []
      },
      "outputs": [],
      "source": [
        "class Residual(nn.Module):\n",
        "    def __init__(self, *layers):\n",
        "        super().__init__()\n",
        "        self.residual = nn.Sequential(*layers)\n",
        "        self.gamma = nn.Parameter(torch.zeros(1))\n",
        "\n",
        "    def forward(self, x):\n",
        "        return x + self.gamma * self.residual(x)\n",
        "class LayerNormChannels(nn.Module):\n",
        "    def __init__(self, channels):\n",
        "        super().__init__()\n",
        "        self.norm = nn.LayerNorm(channels)\n",
        "\n",
        "    def forward(self, x):\n",
        "        x = x.transpose(1, -1)\n",
        "        x = self.norm(x)\n",
        "        x = x.transpose(-1, 1)\n",
        "        return x"
      ]
    },
    {
      "cell_type": "code",
      "execution_count": null,
      "id": "8202f1be",
      "metadata": {
        "execution": {
          "iopub.execute_input": "2025-10-02T13:53:24.782244Z",
          "iopub.status.busy": "2025-10-02T13:53:24.782007Z",
          "iopub.status.idle": "2025-10-02T13:53:24.790971Z",
          "shell.execute_reply": "2025-10-02T13:53:24.790267Z"
        },
        "id": "8202f1be",
        "papermill": {
          "duration": 0.047554,
          "end_time": "2025-10-02T13:53:24.792059",
          "exception": false,
          "start_time": "2025-10-02T13:53:24.744505",
          "status": "completed"
        },
        "tags": []
      },
      "outputs": [],
      "source": [
        "class SelfAttention2d(nn.Module):\n",
        "    def __init__(self, in_channels, out_channels, head_channels, shape):\n",
        "        super().__init__()\n",
        "        self.heads = out_channels // head_channels\n",
        "        self.head_channels = head_channels\n",
        "        self.scale = head_channels**-0.5\n",
        "\n",
        "        self.to_keys = nn.Conv2d(in_channels, out_channels, 1)\n",
        "        self.to_queries = nn.Conv2d(in_channels, out_channels, 1)\n",
        "        self.to_values = nn.Conv2d(in_channels, out_channels, 1)\n",
        "        self.unifyheads = nn.Conv2d(out_channels, out_channels, 1)\n",
        "\n",
        "        height, width = shape\n",
        "        self.pos_enc = nn.Parameter(torch.Tensor(self.heads, (2 * height - 1) * (2 * width - 1)))\n",
        "        self.register_buffer(\"relative_indices\", self.get_indices(height, width))\n",
        "\n",
        "    def forward(self, x):\n",
        "        b, _, h, w = x.shape\n",
        "\n",
        "        keys = self.to_keys(x).view(b, self.heads, self.head_channels, -1)\n",
        "        values = self.to_values(x).view(b, self.heads, self.head_channels, -1)\n",
        "        queries = self.to_queries(x).view(b, self.heads, self.head_channels, -1)\n",
        "\n",
        "        att = keys.transpose(-2, -1) @ queries\n",
        "\n",
        "        indices = self.relative_indices.expand(self.heads, -1)\n",
        "        rel_pos_enc = self.pos_enc.gather(-1, indices)\n",
        "        rel_pos_enc = rel_pos_enc.unflatten(-1, (h * w, h * w))\n",
        "\n",
        "        att = att * self.scale + rel_pos_enc\n",
        "        att = F.softmax(att, dim=-2)\n",
        "\n",
        "        out = values @ att\n",
        "        out = out.view(b, -1, h, w)\n",
        "        out = self.unifyheads(out)\n",
        "        return out\n",
        "\n",
        "    @staticmethod\n",
        "    def get_indices(h, w):\n",
        "        y = torch.arange(h, dtype=torch.long)\n",
        "        x = torch.arange(w, dtype=torch.long)\n",
        "\n",
        "        y1, x1, y2, x2 = torch.meshgrid(y, x, y, x, indexing='ij')\n",
        "        indices = (y1 - y2 + h - 1) * (2 * w - 1) + x1 - x2 + w - 1\n",
        "        indices = indices.flatten()\n",
        "\n",
        "        return indices"
      ]
    },
    {
      "cell_type": "code",
      "execution_count": null,
      "id": "18d87b7e",
      "metadata": {
        "execution": {
          "iopub.execute_input": "2025-10-02T13:53:24.867476Z",
          "iopub.status.busy": "2025-10-02T13:53:24.867222Z",
          "iopub.status.idle": "2025-10-02T13:53:24.873011Z",
          "shell.execute_reply": "2025-10-02T13:53:24.872446Z"
        },
        "id": "18d87b7e",
        "papermill": {
          "duration": 0.04461,
          "end_time": "2025-10-02T13:53:24.874036",
          "exception": false,
          "start_time": "2025-10-02T13:53:24.829426",
          "status": "completed"
        },
        "tags": []
      },
      "outputs": [],
      "source": [
        "class FeedForward(nn.Sequential):\n",
        "    def __init__(self, in_channels, out_channels, mult=4):\n",
        "        hidden_channels = in_channels * mult\n",
        "        super().__init__(\n",
        "            nn.Conv2d(in_channels, hidden_channels, 1),\n",
        "            nn.GELU(),\n",
        "            nn.Conv2d(hidden_channels, out_channels, 1)\n",
        "        )\n",
        "class TransformerBlock(nn.Sequential):\n",
        "    def __init__(self, channels, head_channels, shape, p_drop=0.):\n",
        "        super().__init__(\n",
        "            Residual(\n",
        "                LayerNormChannels(channels),\n",
        "                SelfAttention2d(channels, channels, head_channels, shape),\n",
        "                nn.Dropout(p_drop)\n",
        "            ),\n",
        "            Residual(\n",
        "                LayerNormChannels(channels),\n",
        "                FeedForward(channels, channels),\n",
        "                nn.Dropout(p_drop)\n",
        "            )\n",
        "        )\n",
        "class TransformerStack(nn.Sequential):\n",
        "    def __init__(self, num_blocks, channels, head_channels, shape, p_drop=0.):\n",
        "        layers = [TransformerBlock(channels, head_channels, shape, p_drop) for _ in range(num_blocks)]\n",
        "        super().__init__(*layers)"
      ]
    },
    {
      "cell_type": "code",
      "execution_count": null,
      "id": "4a4605a0",
      "metadata": {
        "execution": {
          "iopub.execute_input": "2025-10-02T13:53:24.950325Z",
          "iopub.status.busy": "2025-10-02T13:53:24.950091Z",
          "iopub.status.idle": "2025-10-02T13:53:24.955772Z",
          "shell.execute_reply": "2025-10-02T13:53:24.955084Z"
        },
        "id": "4a4605a0",
        "papermill": {
          "duration": 0.045615,
          "end_time": "2025-10-02T13:53:24.956950",
          "exception": false,
          "start_time": "2025-10-02T13:53:24.911335",
          "status": "completed"
        },
        "tags": []
      },
      "outputs": [],
      "source": [
        "class ToPatches(nn.Sequential):\n",
        "    def __init__(self, in_channels, channels, patch_size, hidden_channels=32):\n",
        "        super().__init__(\n",
        "            nn.Conv2d(in_channels, hidden_channels, 3, padding=1),\n",
        "            nn.GELU(),\n",
        "            nn.Conv2d(hidden_channels, channels, patch_size, stride=patch_size)\n",
        "        )\n",
        "class AddPositionEmbedding(nn.Module):\n",
        "    def __init__(self, channels, shape):\n",
        "        super().__init__()\n",
        "        self.pos_embedding = nn.Parameter(torch.Tensor(channels, *shape))\n",
        "\n",
        "    def forward(self, x):\n",
        "        return x + self.pos_embedding\n",
        "class ToEmbedding(nn.Sequential):\n",
        "    def __init__(self, in_channels, channels, patch_size, shape, p_drop=0.):\n",
        "        super().__init__(\n",
        "            ToPatches(in_channels, channels, patch_size),\n",
        "            AddPositionEmbedding(channels, shape),\n",
        "            nn.Dropout(p_drop)\n",
        "        )"
      ]
    },
    {
      "cell_type": "code",
      "execution_count": null,
      "id": "8340fa58",
      "metadata": {
        "execution": {
          "iopub.execute_input": "2025-10-02T13:53:25.032500Z",
          "iopub.status.busy": "2025-10-02T13:53:25.032259Z",
          "iopub.status.idle": "2025-10-02T13:53:25.313711Z",
          "shell.execute_reply": "2025-10-02T13:53:25.312909Z"
        },
        "id": "8340fa58",
        "outputId": "a81daec7-5555-4da5-e5ad-aca3e7594493",
        "papermill": {
          "duration": 0.32112,
          "end_time": "2025-10-02T13:53:25.315029",
          "exception": false,
          "start_time": "2025-10-02T13:53:24.993909",
          "status": "completed"
        },
        "tags": []
      },
      "outputs": [
        {
          "name": "stdout",
          "output_type": "stream",
          "text": [
            "Number of parameters: 6,482,138\n"
          ]
        }
      ],
      "source": [
        "class Head(nn.Sequential):\n",
        "    def __init__(self, in_channels, classes, p_drop=0.):\n",
        "        super().__init__(\n",
        "            LayerNormChannels(in_channels),\n",
        "            nn.GELU(),\n",
        "            nn.AdaptiveAvgPool2d(1),\n",
        "            nn.Flatten(),\n",
        "            nn.Dropout(p_drop),\n",
        "            nn.Linear(in_channels, classes)\n",
        "        )\n",
        "class RelViT(nn.Sequential):\n",
        "    def __init__(self, classes, image_size, channels, head_channels, num_blocks, patch_size,\n",
        "                 in_channels=3, emb_p_drop=0., trans_p_drop=0., head_p_drop=0.):\n",
        "        reduced_size = image_size // patch_size\n",
        "        shape = (reduced_size, reduced_size)\n",
        "        super().__init__(\n",
        "            ToEmbedding(in_channels, channels, patch_size, shape, emb_p_drop),\n",
        "            TransformerStack(num_blocks, channels, head_channels, shape, trans_p_drop),\n",
        "            Head(channels, classes, head_p_drop)\n",
        "        )\n",
        "        self.reset_parameters()\n",
        "\n",
        "    def reset_parameters(self):\n",
        "        for m in self.modules():\n",
        "            if isinstance(m, (nn.Conv2d, nn.Linear)):\n",
        "                nn.init.kaiming_normal_(m.weight)\n",
        "                if m.bias is not None: nn.init.zeros_(m.bias)\n",
        "            elif isinstance(m, nn.LayerNorm):\n",
        "                nn.init.constant_(m.weight, 1.)\n",
        "                nn.init.zeros_(m.bias)\n",
        "            elif isinstance(m, AddPositionEmbedding):\n",
        "                nn.init.normal_(m.pos_embedding, mean=0.0, std=0.02)\n",
        "            elif isinstance(m, SelfAttention2d):\n",
        "                nn.init.normal_(m.pos_enc, mean=0.0, std=0.02)\n",
        "            elif isinstance(m, Residual):\n",
        "                nn.init.zeros_(m.gamma)\n",
        "\n",
        "    def separate_parameters(self):\n",
        "        parameters_decay = set()\n",
        "        parameters_no_decay = set()\n",
        "        modules_weight_decay = (nn.Linear, nn.Conv2d)\n",
        "        modules_no_weight_decay = (nn.LayerNorm,)\n",
        "\n",
        "        for m_name, m in self.named_modules():\n",
        "            for param_name, param in m.named_parameters():\n",
        "                full_param_name = f\"{m_name}.{param_name}\" if m_name else param_name\n",
        "\n",
        "                if isinstance(m, modules_no_weight_decay):\n",
        "                    parameters_no_decay.add(full_param_name)\n",
        "                elif param_name.endswith(\"bias\"):\n",
        "                    parameters_no_decay.add(full_param_name)\n",
        "                elif isinstance(m, Residual) and param_name.endswith(\"gamma\"):\n",
        "                    parameters_no_decay.add(full_param_name)\n",
        "                elif isinstance(m, AddPositionEmbedding) and param_name.endswith(\"pos_embedding\"):\n",
        "                    parameters_no_decay.add(full_param_name)\n",
        "                elif isinstance(m, SelfAttention2d) and param_name.endswith(\"pos_enc\"):\n",
        "                    parameters_no_decay.add(full_param_name)\n",
        "                elif isinstance(m, modules_weight_decay):\n",
        "                    parameters_decay.add(full_param_name)\n",
        "\n",
        "        # sanity check\n",
        "        assert len(parameters_decay & parameters_no_decay) == 0\n",
        "        assert len(parameters_decay) + len(parameters_no_decay) == len(list(model.parameters()))\n",
        "\n",
        "        return parameters_decay, parameters_no_decay\n",
        "model = RelViT(NUM_CLASSES, IMAGE_SIZE, channels=256, head_channels=32, num_blocks=8, patch_size=2,\n",
        "               emb_p_drop=0., trans_p_drop=0., head_p_drop=0.3)\n",
        "model.to(DEVICE);\n",
        "print(\"Number of parameters: {:,}\".format(sum(p.numel() for p in model.parameters())))"
      ]
    },
    {
      "cell_type": "code",
      "execution_count": null,
      "id": "28cd7888",
      "metadata": {
        "execution": {
          "iopub.execute_input": "2025-10-02T13:53:25.392412Z",
          "iopub.status.busy": "2025-10-02T13:53:25.391713Z",
          "iopub.status.idle": "2025-10-02T13:53:25.399904Z",
          "shell.execute_reply": "2025-10-02T13:53:25.399302Z"
        },
        "id": "28cd7888",
        "papermill": {
          "duration": 0.047352,
          "end_time": "2025-10-02T13:53:25.400966",
          "exception": false,
          "start_time": "2025-10-02T13:53:25.353614",
          "status": "completed"
        },
        "tags": []
      },
      "outputs": [],
      "source": [
        "def reduce_loss(loss, reduction='mean'):\n",
        "    return loss.mean() if reduction=='mean' else loss.sum() if reduction=='sum' else loss\n",
        "class CutMix(nn.Module):\n",
        "    def __init__(self, loss, α=1.0):\n",
        "        super().__init__()\n",
        "        self.loss = loss\n",
        "        self.α = α\n",
        "        self.rng = np.random.default_rng()\n",
        "\n",
        "    def prepare_batch(self, batch, device, non_blocking):\n",
        "        x, y = batch\n",
        "        x = convert_tensor(x, device=device, non_blocking=non_blocking)\n",
        "        y = convert_tensor(y, device=device, non_blocking=non_blocking)\n",
        "\n",
        "        batch_size = x.size(0)\n",
        "        self.index = torch.randperm(batch_size).to(device)\n",
        "\n",
        "        self.λ = self.rng.beta(self.α, self.α)\n",
        "        y1, x1, y2, x2 = self.cut_bounding_box(x.shape[-2:], self.λ)\n",
        "        x[:, :, y1:y2, x1:x2] = x[self.index, :, y1:y2, x1:x2]\n",
        "\n",
        "        # adjust lambda to exactly match pixel ratio\n",
        "        area = x.size(2) * x.size(3)\n",
        "        self.λ = 1. - (x2 - x1) * (y2 - y1) / area\n",
        "        return x, y\n",
        "\n",
        "    def cut_bounding_box(self, shape, λ):\n",
        "        cut_size_2 = 0.5 * np.sqrt(1. - λ)\n",
        "        center_yx = self.rng.random(2)\n",
        "\n",
        "        y1x1 = (np.clip(center_yx - cut_size_2, 0., 1.) * shape).astype(int)\n",
        "        y2x2 = (np.clip(center_yx + cut_size_2, 0., 1.) * shape).astype(int)\n",
        "        return np.concatenate((y1x1, y2x2))\n",
        "\n",
        "    def forward(self, pred, target):\n",
        "        orig_reduction = self.loss.reduction\n",
        "        self.loss.reduction = 'none'\n",
        "        batch_loss = self.λ * self.loss(pred, target) + (1. - self.λ) * self.loss(pred, target[self.index])\n",
        "        self.loss.reduction = orig_reduction\n",
        "        return reduce_loss(batch_loss, orig_reduction)"
      ]
    },
    {
      "cell_type": "code",
      "execution_count": null,
      "id": "82d5e206",
      "metadata": {
        "execution": {
          "iopub.execute_input": "2025-10-02T13:53:25.477110Z",
          "iopub.status.busy": "2025-10-02T13:53:25.476833Z",
          "iopub.status.idle": "2025-10-02T13:53:25.481607Z",
          "shell.execute_reply": "2025-10-02T13:53:25.480910Z"
        },
        "id": "82d5e206",
        "papermill": {
          "duration": 0.044318,
          "end_time": "2025-10-02T13:53:25.482838",
          "exception": false,
          "start_time": "2025-10-02T13:53:25.438520",
          "status": "completed"
        },
        "tags": []
      },
      "outputs": [],
      "source": [
        "def get_optimizer(model, learning_rate, weight_decay):\n",
        "    param_dict = {pn: p for pn, p in model.named_parameters()}\n",
        "    parameters_decay, parameters_no_decay = model.separate_parameters()\n",
        "\n",
        "    optim_groups = [\n",
        "        {\"params\": [param_dict[pn] for pn in parameters_decay], \"weight_decay\": weight_decay},\n",
        "        {\"params\": [param_dict[pn] for pn in parameters_no_decay], \"weight_decay\": 0.0},\n",
        "    ]\n",
        "    optimizer = optim.AdamW(optim_groups, lr=learning_rate)\n",
        "    return optimizer"
      ]
    },
    {
      "cell_type": "code",
      "execution_count": null,
      "id": "17d75f39",
      "metadata": {
        "execution": {
          "iopub.execute_input": "2025-10-02T13:53:25.559464Z",
          "iopub.status.busy": "2025-10-02T13:53:25.558926Z",
          "iopub.status.idle": "2025-10-02T13:53:25.570618Z",
          "shell.execute_reply": "2025-10-02T13:53:25.570052Z"
        },
        "id": "17d75f39",
        "papermill": {
          "duration": 0.051158,
          "end_time": "2025-10-02T13:53:25.571601",
          "exception": false,
          "start_time": "2025-10-02T13:53:25.520443",
          "status": "completed"
        },
        "tags": []
      },
      "outputs": [],
      "source": [
        "loss = nn.CrossEntropyLoss(label_smoothing=0.1)\n",
        "cutmix = CutMix(loss, α=1.0)\n",
        "optimizer = get_optimizer(model, learning_rate=LEARNING_RATE, weight_decay=WEIGHT_DECAY)\n",
        "trainer = create_supervised_trainer(model, optimizer, cutmix, device=DEVICE, prepare_batch=cutmix.prepare_batch)\n",
        "lr_scheduler = optim.lr_scheduler.OneCycleLR(optimizer, max_lr=LEARNING_RATE,\n",
        "                                             steps_per_epoch=len(train_loader), epochs=EPOCHS)\n",
        "trainer.add_event_handler(Events.ITERATION_COMPLETED, lambda engine: lr_scheduler.step());\n",
        "ignite.metrics.RunningAverage(output_transform=lambda x: x).attach(trainer, \"loss\")\n",
        "val_metrics = {\"accuracy\": ignite.metrics.Accuracy(), \"loss\": ignite.metrics.Loss(loss)}\n",
        "evaluator = create_supervised_evaluator(model, metrics=val_metrics, device=DEVICE)\n",
        "history = defaultdict(list)\n",
        "@trainer.on(Events.EPOCH_COMPLETED)\n",
        "def log_validation_results(engine):\n",
        "    train_state = engine.state\n",
        "    epoch = train_state.epoch\n",
        "    max_epochs = train_state.max_epochs\n",
        "    train_loss = train_state.metrics[\"loss\"]\n",
        "    history['train loss'].append(train_loss)\n",
        "\n",
        "    evaluator.run(test_loader)\n",
        "    val_metrics = evaluator.state.metrics\n",
        "    val_loss = val_metrics[\"loss\"]\n",
        "    val_acc = val_metrics[\"accuracy\"]\n",
        "    history['val loss'].append(val_loss)\n",
        "    history['val acc'].append(val_acc)\n",
        "\n",
        "    print(\"{}/{} - train: loss {:.3f}; val: loss {:.3f} accuracy {:.3f}\".format(\n",
        "        epoch, max_epochs, train_loss, val_loss, val_acc))"
      ]
    },
    {
      "cell_type": "code",
      "execution_count": null,
      "id": "b930741e",
      "metadata": {
        "execution": {
          "iopub.execute_input": "2025-10-02T13:53:25.647171Z",
          "iopub.status.busy": "2025-10-02T13:53:25.646649Z",
          "iopub.status.idle": "2025-10-03T01:37:21.508076Z",
          "shell.execute_reply": "2025-10-03T01:37:21.507261Z"
        },
        "id": "b930741e",
        "outputId": "62a4897e-8b8a-4b3f-9f3f-bbe73821eac3",
        "papermill": {
          "duration": 42235.946399,
          "end_time": "2025-10-03T01:37:21.555298",
          "exception": false,
          "start_time": "2025-10-02T13:53:25.608899",
          "status": "completed"
        },
        "tags": []
      },
      "outputs": [
        {
          "name": "stdout",
          "output_type": "stream",
          "text": [
            "1/200 - train: loss 2.236; val: loss 2.085 accuracy 0.243\n",
            "2/200 - train: loss 2.144; val: loss 1.888 accuracy 0.373\n",
            "3/200 - train: loss 2.098; val: loss 1.775 accuracy 0.421\n",
            "4/200 - train: loss 2.067; val: loss 1.653 accuracy 0.479\n",
            "5/200 - train: loss 2.023; val: loss 1.605 accuracy 0.515\n",
            "6/200 - train: loss 1.986; val: loss 1.506 accuracy 0.553\n",
            "7/200 - train: loss 1.988; val: loss 1.476 accuracy 0.558\n",
            "8/200 - train: loss 1.966; val: loss 1.454 accuracy 0.582\n",
            "9/200 - train: loss 1.969; val: loss 1.387 accuracy 0.612\n",
            "10/200 - train: loss 1.944; val: loss 1.389 accuracy 0.610\n",
            "11/200 - train: loss 1.959; val: loss 1.341 accuracy 0.636\n",
            "12/200 - train: loss 1.909; val: loss 1.317 accuracy 0.649\n",
            "13/200 - train: loss 1.911; val: loss 1.291 accuracy 0.647\n",
            "14/200 - train: loss 1.891; val: loss 1.276 accuracy 0.655\n",
            "15/200 - train: loss 1.887; val: loss 1.275 accuracy 0.660\n",
            "16/200 - train: loss 1.879; val: loss 1.239 accuracy 0.679\n",
            "17/200 - train: loss 1.836; val: loss 1.204 accuracy 0.691\n",
            "18/200 - train: loss 1.852; val: loss 1.220 accuracy 0.694\n",
            "19/200 - train: loss 1.895; val: loss 1.223 accuracy 0.696\n",
            "20/200 - train: loss 1.865; val: loss 1.239 accuracy 0.676\n",
            "21/200 - train: loss 1.879; val: loss 1.194 accuracy 0.704\n",
            "22/200 - train: loss 1.867; val: loss 1.163 accuracy 0.713\n",
            "23/200 - train: loss 1.859; val: loss 1.229 accuracy 0.677\n",
            "24/200 - train: loss 1.835; val: loss 1.174 accuracy 0.708\n",
            "25/200 - train: loss 1.865; val: loss 1.193 accuracy 0.695\n",
            "26/200 - train: loss 1.820; val: loss 1.112 accuracy 0.736\n",
            "27/200 - train: loss 1.840; val: loss 1.176 accuracy 0.714\n",
            "28/200 - train: loss 1.863; val: loss 1.190 accuracy 0.696\n",
            "29/200 - train: loss 1.805; val: loss 1.134 accuracy 0.720\n",
            "30/200 - train: loss 1.841; val: loss 1.102 accuracy 0.740\n",
            "31/200 - train: loss 1.828; val: loss 1.180 accuracy 0.700\n",
            "32/200 - train: loss 1.820; val: loss 1.154 accuracy 0.713\n",
            "33/200 - train: loss 1.798; val: loss 1.108 accuracy 0.741\n",
            "34/200 - train: loss 1.831; val: loss 1.120 accuracy 0.744\n",
            "35/200 - train: loss 1.820; val: loss 1.101 accuracy 0.737\n",
            "36/200 - train: loss 1.805; val: loss 1.159 accuracy 0.717\n",
            "37/200 - train: loss 1.815; val: loss 1.107 accuracy 0.737\n",
            "38/200 - train: loss 1.796; val: loss 1.154 accuracy 0.707\n",
            "39/200 - train: loss 1.786; val: loss 1.092 accuracy 0.741\n",
            "40/200 - train: loss 1.808; val: loss 1.105 accuracy 0.743\n",
            "41/200 - train: loss 1.826; val: loss 1.094 accuracy 0.747\n",
            "42/200 - train: loss 1.800; val: loss 1.114 accuracy 0.733\n",
            "43/200 - train: loss 1.804; val: loss 1.068 accuracy 0.753\n",
            "44/200 - train: loss 1.767; val: loss 1.087 accuracy 0.747\n",
            "45/200 - train: loss 1.774; val: loss 1.173 accuracy 0.699\n",
            "46/200 - train: loss 1.804; val: loss 1.131 accuracy 0.723\n",
            "47/200 - train: loss 1.782; val: loss 1.081 accuracy 0.750\n",
            "48/200 - train: loss 1.794; val: loss 1.097 accuracy 0.742\n",
            "49/200 - train: loss 1.740; val: loss 1.039 accuracy 0.768\n",
            "50/200 - train: loss 1.732; val: loss 1.027 accuracy 0.784\n",
            "51/200 - train: loss 1.754; val: loss 1.055 accuracy 0.760\n",
            "52/200 - train: loss 1.727; val: loss 1.007 accuracy 0.782\n",
            "53/200 - train: loss 1.749; val: loss 0.996 accuracy 0.789\n",
            "54/200 - train: loss 1.745; val: loss 1.007 accuracy 0.787\n",
            "55/200 - train: loss 1.708; val: loss 0.996 accuracy 0.781\n",
            "56/200 - train: loss 1.724; val: loss 1.005 accuracy 0.782\n",
            "57/200 - train: loss 1.672; val: loss 0.991 accuracy 0.786\n",
            "58/200 - train: loss 1.719; val: loss 1.068 accuracy 0.757\n",
            "59/200 - train: loss 1.719; val: loss 0.965 accuracy 0.800\n",
            "60/200 - train: loss 1.688; val: loss 0.984 accuracy 0.791\n",
            "61/200 - train: loss 1.682; val: loss 0.937 accuracy 0.823\n",
            "62/200 - train: loss 1.739; val: loss 0.948 accuracy 0.815\n",
            "63/200 - train: loss 1.680; val: loss 0.932 accuracy 0.814\n",
            "64/200 - train: loss 1.659; val: loss 0.909 accuracy 0.836\n",
            "65/200 - train: loss 1.650; val: loss 0.954 accuracy 0.801\n",
            "66/200 - train: loss 1.659; val: loss 0.894 accuracy 0.840\n",
            "67/200 - train: loss 1.628; val: loss 0.919 accuracy 0.825\n",
            "68/200 - train: loss 1.687; val: loss 0.892 accuracy 0.842\n",
            "69/200 - train: loss 1.630; val: loss 0.931 accuracy 0.814\n",
            "70/200 - train: loss 1.643; val: loss 0.911 accuracy 0.831\n",
            "71/200 - train: loss 1.667; val: loss 0.881 accuracy 0.839\n",
            "72/200 - train: loss 1.659; val: loss 0.864 accuracy 0.859\n",
            "73/200 - train: loss 1.635; val: loss 0.876 accuracy 0.848\n",
            "74/200 - train: loss 1.647; val: loss 0.902 accuracy 0.831\n",
            "75/200 - train: loss 1.647; val: loss 0.873 accuracy 0.852\n",
            "76/200 - train: loss 1.637; val: loss 0.883 accuracy 0.847\n",
            "77/200 - train: loss 1.655; val: loss 0.871 accuracy 0.849\n",
            "78/200 - train: loss 1.598; val: loss 0.881 accuracy 0.841\n",
            "79/200 - train: loss 1.639; val: loss 0.850 accuracy 0.857\n",
            "80/200 - train: loss 1.636; val: loss 0.865 accuracy 0.846\n",
            "81/200 - train: loss 1.593; val: loss 0.853 accuracy 0.854\n",
            "82/200 - train: loss 1.605; val: loss 0.865 accuracy 0.844\n",
            "83/200 - train: loss 1.605; val: loss 0.837 accuracy 0.866\n",
            "84/200 - train: loss 1.587; val: loss 0.857 accuracy 0.859\n",
            "85/200 - train: loss 1.610; val: loss 0.873 accuracy 0.839\n",
            "86/200 - train: loss 1.581; val: loss 0.837 accuracy 0.857\n",
            "87/200 - train: loss 1.609; val: loss 0.860 accuracy 0.854\n",
            "88/200 - train: loss 1.602; val: loss 0.819 accuracy 0.866\n",
            "89/200 - train: loss 1.569; val: loss 0.852 accuracy 0.851\n",
            "90/200 - train: loss 1.610; val: loss 0.824 accuracy 0.866\n",
            "91/200 - train: loss 1.588; val: loss 0.813 accuracy 0.871\n",
            "92/200 - train: loss 1.553; val: loss 0.841 accuracy 0.853\n",
            "93/200 - train: loss 1.544; val: loss 0.809 accuracy 0.869\n",
            "94/200 - train: loss 1.570; val: loss 0.792 accuracy 0.879\n",
            "95/200 - train: loss 1.551; val: loss 0.798 accuracy 0.872\n",
            "96/200 - train: loss 1.595; val: loss 0.812 accuracy 0.875\n",
            "97/200 - train: loss 1.566; val: loss 0.791 accuracy 0.884\n",
            "98/200 - train: loss 1.548; val: loss 0.820 accuracy 0.867\n",
            "99/200 - train: loss 1.580; val: loss 0.808 accuracy 0.870\n",
            "100/200 - train: loss 1.524; val: loss 0.771 accuracy 0.892\n",
            "101/200 - train: loss 1.550; val: loss 0.764 accuracy 0.894\n",
            "102/200 - train: loss 1.530; val: loss 0.764 accuracy 0.893\n",
            "103/200 - train: loss 1.597; val: loss 0.792 accuracy 0.878\n",
            "104/200 - train: loss 1.538; val: loss 0.797 accuracy 0.874\n",
            "105/200 - train: loss 1.545; val: loss 0.770 accuracy 0.891\n",
            "106/200 - train: loss 1.545; val: loss 0.776 accuracy 0.883\n",
            "107/200 - train: loss 1.536; val: loss 0.780 accuracy 0.883\n",
            "108/200 - train: loss 1.561; val: loss 0.766 accuracy 0.892\n",
            "109/200 - train: loss 1.567; val: loss 0.732 accuracy 0.906\n",
            "110/200 - train: loss 1.497; val: loss 0.754 accuracy 0.892\n",
            "111/200 - train: loss 1.554; val: loss 0.755 accuracy 0.894\n",
            "112/200 - train: loss 1.517; val: loss 0.763 accuracy 0.891\n",
            "113/200 - train: loss 1.516; val: loss 0.764 accuracy 0.892\n",
            "114/200 - train: loss 1.527; val: loss 0.737 accuracy 0.905\n",
            "115/200 - train: loss 1.525; val: loss 0.759 accuracy 0.890\n",
            "116/200 - train: loss 1.517; val: loss 0.742 accuracy 0.902\n",
            "117/200 - train: loss 1.481; val: loss 0.741 accuracy 0.904\n",
            "118/200 - train: loss 1.473; val: loss 0.726 accuracy 0.907\n",
            "119/200 - train: loss 1.496; val: loss 0.720 accuracy 0.912\n",
            "120/200 - train: loss 1.496; val: loss 0.713 accuracy 0.911\n",
            "121/200 - train: loss 1.502; val: loss 0.733 accuracy 0.906\n",
            "122/200 - train: loss 1.457; val: loss 0.721 accuracy 0.911\n",
            "123/200 - train: loss 1.479; val: loss 0.719 accuracy 0.909\n",
            "124/200 - train: loss 1.489; val: loss 0.714 accuracy 0.915\n",
            "125/200 - train: loss 1.414; val: loss 0.713 accuracy 0.911\n",
            "126/200 - train: loss 1.417; val: loss 0.717 accuracy 0.914\n",
            "127/200 - train: loss 1.459; val: loss 0.699 accuracy 0.918\n",
            "128/200 - train: loss 1.397; val: loss 0.694 accuracy 0.921\n",
            "129/200 - train: loss 1.426; val: loss 0.712 accuracy 0.913\n",
            "130/200 - train: loss 1.445; val: loss 0.737 accuracy 0.902\n",
            "131/200 - train: loss 1.444; val: loss 0.696 accuracy 0.917\n",
            "132/200 - train: loss 1.462; val: loss 0.704 accuracy 0.918\n",
            "133/200 - train: loss 1.442; val: loss 0.683 accuracy 0.922\n",
            "134/200 - train: loss 1.454; val: loss 0.676 accuracy 0.929\n",
            "135/200 - train: loss 1.432; val: loss 0.675 accuracy 0.929\n",
            "136/200 - train: loss 1.432; val: loss 0.679 accuracy 0.929\n",
            "137/200 - train: loss 1.406; val: loss 0.677 accuracy 0.930\n",
            "138/200 - train: loss 1.420; val: loss 0.667 accuracy 0.932\n",
            "139/200 - train: loss 1.380; val: loss 0.694 accuracy 0.917\n",
            "140/200 - train: loss 1.394; val: loss 0.682 accuracy 0.924\n",
            "141/200 - train: loss 1.401; val: loss 0.661 accuracy 0.933\n",
            "142/200 - train: loss 1.415; val: loss 0.662 accuracy 0.936\n",
            "143/200 - train: loss 1.400; val: loss 0.664 accuracy 0.937\n",
            "144/200 - train: loss 1.358; val: loss 0.668 accuracy 0.931\n",
            "145/200 - train: loss 1.353; val: loss 0.649 accuracy 0.940\n",
            "146/200 - train: loss 1.370; val: loss 0.661 accuracy 0.931\n",
            "147/200 - train: loss 1.374; val: loss 0.650 accuracy 0.941\n",
            "148/200 - train: loss 1.366; val: loss 0.654 accuracy 0.935\n",
            "149/200 - train: loss 1.391; val: loss 0.643 accuracy 0.945\n",
            "150/200 - train: loss 1.373; val: loss 0.642 accuracy 0.942\n",
            "151/200 - train: loss 1.359; val: loss 0.646 accuracy 0.941\n",
            "152/200 - train: loss 1.340; val: loss 0.639 accuracy 0.945\n",
            "153/200 - train: loss 1.316; val: loss 0.634 accuracy 0.944\n",
            "154/200 - train: loss 1.350; val: loss 0.634 accuracy 0.947\n",
            "155/200 - train: loss 1.374; val: loss 0.633 accuracy 0.946\n",
            "156/200 - train: loss 1.330; val: loss 0.635 accuracy 0.947\n",
            "157/200 - train: loss 1.315; val: loss 0.648 accuracy 0.938\n",
            "158/200 - train: loss 1.293; val: loss 0.636 accuracy 0.946\n",
            "159/200 - train: loss 1.283; val: loss 0.628 accuracy 0.948\n",
            "160/200 - train: loss 1.346; val: loss 0.642 accuracy 0.941\n",
            "161/200 - train: loss 1.338; val: loss 0.617 accuracy 0.952\n",
            "162/200 - train: loss 1.322; val: loss 0.614 accuracy 0.955\n",
            "163/200 - train: loss 1.287; val: loss 0.627 accuracy 0.949\n",
            "164/200 - train: loss 1.327; val: loss 0.614 accuracy 0.954\n",
            "165/200 - train: loss 1.298; val: loss 0.619 accuracy 0.952\n",
            "166/200 - train: loss 1.277; val: loss 0.616 accuracy 0.953\n",
            "167/200 - train: loss 1.301; val: loss 0.614 accuracy 0.953\n",
            "168/200 - train: loss 1.276; val: loss 0.614 accuracy 0.953\n",
            "169/200 - train: loss 1.253; val: loss 0.607 accuracy 0.957\n",
            "170/200 - train: loss 1.289; val: loss 0.605 accuracy 0.959\n",
            "171/200 - train: loss 1.252; val: loss 0.605 accuracy 0.958\n",
            "172/200 - train: loss 1.275; val: loss 0.597 accuracy 0.962\n",
            "173/200 - train: loss 1.263; val: loss 0.602 accuracy 0.958\n",
            "174/200 - train: loss 1.262; val: loss 0.596 accuracy 0.962\n",
            "175/200 - train: loss 1.282; val: loss 0.596 accuracy 0.961\n",
            "176/200 - train: loss 1.236; val: loss 0.601 accuracy 0.960\n",
            "177/200 - train: loss 1.235; val: loss 0.590 accuracy 0.965\n",
            "178/200 - train: loss 1.243; val: loss 0.598 accuracy 0.959\n",
            "179/200 - train: loss 1.243; val: loss 0.590 accuracy 0.963\n",
            "180/200 - train: loss 1.243; val: loss 0.592 accuracy 0.964\n",
            "181/200 - train: loss 1.241; val: loss 0.587 accuracy 0.965\n",
            "182/200 - train: loss 1.224; val: loss 0.586 accuracy 0.966\n",
            "183/200 - train: loss 1.204; val: loss 0.585 accuracy 0.966\n",
            "184/200 - train: loss 1.201; val: loss 0.583 accuracy 0.965\n",
            "185/200 - train: loss 1.154; val: loss 0.582 accuracy 0.966\n",
            "186/200 - train: loss 1.191; val: loss 0.581 accuracy 0.968\n",
            "187/200 - train: loss 1.192; val: loss 0.580 accuracy 0.969\n",
            "188/200 - train: loss 1.180; val: loss 0.580 accuracy 0.967\n",
            "189/200 - train: loss 1.238; val: loss 0.581 accuracy 0.967\n",
            "190/200 - train: loss 1.227; val: loss 0.581 accuracy 0.968\n",
            "191/200 - train: loss 1.198; val: loss 0.578 accuracy 0.969\n",
            "192/200 - train: loss 1.206; val: loss 0.578 accuracy 0.969\n",
            "193/200 - train: loss 1.204; val: loss 0.577 accuracy 0.969\n",
            "194/200 - train: loss 1.226; val: loss 0.578 accuracy 0.969\n",
            "195/200 - train: loss 1.212; val: loss 0.578 accuracy 0.969\n",
            "196/200 - train: loss 1.195; val: loss 0.577 accuracy 0.969\n",
            "197/200 - train: loss 1.170; val: loss 0.577 accuracy 0.969\n",
            "198/200 - train: loss 1.194; val: loss 0.577 accuracy 0.969\n",
            "199/200 - train: loss 1.151; val: loss 0.577 accuracy 0.969\n",
            "200/200 - train: loss 1.193; val: loss 0.577 accuracy 0.969\n"
          ]
        }
      ],
      "source": [
        "trainer.run(train_loader, max_epochs=EPOCHS);\n"
      ]
    },
    {
      "cell_type": "code",
      "execution_count": null,
      "id": "9c9dcfb8",
      "metadata": {
        "execution": {
          "iopub.execute_input": "2025-10-03T01:37:21.646128Z",
          "iopub.status.busy": "2025-10-03T01:37:21.645521Z",
          "iopub.status.idle": "2025-10-03T01:37:21.870545Z",
          "shell.execute_reply": "2025-10-03T01:37:21.869814Z"
        },
        "id": "9c9dcfb8",
        "papermill": {
          "duration": 0.271975,
          "end_time": "2025-10-03T01:37:21.871700",
          "exception": false,
          "start_time": "2025-10-03T01:37:21.599725",
          "status": "completed"
        },
        "tags": [],
        "outputId": "4fe1cb0d-7df2-441f-b791-f3e858eca2e7"
      },
      "outputs": [
        {
          "data": {
            "image/png": "[encoded data removed]",
            "text/plain": [
              "<Figure size 640x480 with 1 Axes>"
            ]
          },
          "metadata": {},
          "output_type": "display_data"
        }
      ],
      "source": [
        "fig = plt.figure()\n",
        "ax = fig.add_subplot(111)\n",
        "xs = np.arange(1, len(history['train loss']) + 1)\n",
        "ax.plot(xs, history['train loss'], '.-', label='train')\n",
        "ax.plot(xs, history['val loss'], '.-', label='val')\n",
        "ax.set_xlabel('epoch')\n",
        "ax.set_ylabel('loss')\n",
        "ax.legend()\n",
        "ax.grid()\n",
        "plt.show()"
      ]
    },
    {
      "cell_type": "code",
      "execution_count": null,
      "id": "3267fcc8",
      "metadata": {
        "execution": {
          "iopub.execute_input": "2025-10-03T01:37:21.965028Z",
          "iopub.status.busy": "2025-10-03T01:37:21.964763Z",
          "iopub.status.idle": "2025-10-03T01:37:22.097219Z",
          "shell.execute_reply": "2025-10-03T01:37:22.096430Z"
        },
        "id": "3267fcc8",
        "papermill": {
          "duration": 0.179693,
          "end_time": "2025-10-03T01:37:22.098322",
          "exception": false,
          "start_time": "2025-10-03T01:37:21.918629",
          "status": "completed"
        },
        "tags": [],
        "outputId": "733b72f9-b57f-422a-ecd2-bde7c130e641"
      },
      "outputs": [
        {
          "data": {
            "image/png": "[encoded data removed]",
            "text/plain": [
              "<Figure size 640x480 with 1 Axes>"
            ]
          },
          "metadata": {},
          "output_type": "display_data"
        }
      ],
      "source": [
        "fig = plt.figure()\n",
        "ax = fig.add_subplot(111)\n",
        "xs = np.arange(1, len(history['val acc']) + 1)\n",
        "ax.plot(xs, history['val acc'], '-')\n",
        "ax.set_xlabel('epoch')\n",
        "ax.set_ylabel('val acc')\n",
        "ax.grid()\n",
        "plt.show()"
      ]
    }
  ],
  "metadata": {
    "colab": {
      "provenance": [],
      "authorship_tag": "ABX9TyOdBkTsu2leZdHtgHxzDV9s",
      "include_colab_link": true
    },
    "kaggle": {
      "accelerator": "gpu",
      "dataSources": [],
      "dockerImageVersionId": 31090,
      "isGpuEnabled": true,
      "isInternetEnabled": true,
      "language": "python",
      "sourceType": "notebook"
    },
    "kernelspec": {
      "display_name": "Python 3",
      "name": "python3"
    },
    "language_info": {
      "codemirror_mode": {
        "name": "ipython",
        "version": 3
      },
      "file_extension": ".py",
      "mimetype": "text/x-python",
      "name": "python",
      "nbconvert_exporter": "python",
      "pygments_lexer": "ipython3",
      "version": "3.11.13"
    },
    "papermill": {
      "default_parameters": {},
      "duration": 42374.846871,
      "end_time": "2025-10-03T01:37:23.502358",
      "environment_variables": {},
      "exception": null,
      "input_path": "__notebook__.ipynb",
      "output_path": "__notebook__.ipynb",
      "parameters": {},
      "start_time": "2025-10-02T13:51:08.655487",
      "version": "2.6.0"
    }
  },
  "nbformat": 4,
  "nbformat_minor": 5
}